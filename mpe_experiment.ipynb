{
 "cells": [
  {
   "cell_type": "markdown",
   "source": [
    "**Task 2 experiment**:"
   ],
   "metadata": {}
  },
  {
   "cell_type": "code",
   "execution_count": null,
   "source": [
    "from BayesNet import BayesNet\n",
    "from BNReasoner import BNReasoner\n",
    "import networkx as nx\n",
    "from time import perf_counter\n",
    "import random\n",
    "from itertools import product\n",
    "import csv\n",
    "from csv import writer\n",
    "\n",
    "graph_sizes = [5, 10, 15, 20, 25]\n",
    "heuristics = [1,2,3]\n",
    "\n",
    "with open('results_mpe.csv', 'w') as csv_file:\n",
    "    csv_writer = writer(csv_file)\n",
    "    headers = ['Graph_size', 'Heuristic', 'Computation time']\n",
    "    csv_writer.writerow(headers)\n",
    "    for graph_size, heuristic in product(graph_sizes, heuristics):\n",
    "        print(graph_size, heuristic)\n",
    "        # Initialize\n",
    "        random_bn = BayesNet()\n",
    "        reasoner = BNReasoner(random_bn)\n",
    "        # Create randomly generated graph\n",
    "        randomly_generated_graph = reasoner.gnp_random_connected_graph(graph_size)\n",
    "        randomly_generated_cpts = reasoner.set_cpts(randomly_generated_graph)\n",
    "        random_bn.create_bn(randomly_generated_graph.nodes(), randomly_generated_graph.edges(), randomly_generated_cpts)\n",
    "        reasoner = BNReasoner(random_bn)\n",
    "        # Assign two different nodes for random query/evidence\n",
    "        random.seed(10)\n",
    "        random_node_1 = random.choice(list(random_bn.structure.nodes()))\n",
    "\n",
    "        random_seed = 1\n",
    "        random.seed(random_seed)\n",
    "        random_node_2 = random.choice(list(random_bn.structure.nodes()))\n",
    "\n",
    "        while random_node_1 == random_node_2:\n",
    "            random_seed += 1\n",
    "            random_node_2 = random.choice(list(random_bn.structure.nodes()))\n",
    "\n",
    "        # print(random_node_1, random_node_2)\n",
    "\n",
    "        # Start the stopwatch / counter\n",
    "        print('MPE counter starts')\n",
    "        t1_start = perf_counter()\n",
    "\n",
    "        result = reasoner.mpe([(random_node_2 ,bool(random.getrandbits(1)))])\n",
    "        print(result)\n",
    "\n",
    "        # Stop the stopwatch / counter\n",
    "        t1_stop = perf_counter()\n",
    "        print(\"Elapsed time:\", t1_stop, t1_start)\n",
    "        computation_time = t1_stop-t1_start\n",
    "        print(\"Elapsed time during the whole program in seconds:\",\n",
    "                                                computation_time)\n",
    "        csv_writer.writerow([graph_size, heuristic, computation_time])"
   ],
   "outputs": [],
   "metadata": {}
  }
 ],
 "metadata": {
  "orig_nbformat": 4,
  "language_info": {
   "name": "python",
   "version": "3.9.5",
   "mimetype": "text/x-python",
   "codemirror_mode": {
    "name": "ipython",
    "version": 3
   },
   "pygments_lexer": "ipython3",
   "nbconvert_exporter": "python",
   "file_extension": ".py"
  },
  "kernelspec": {
   "name": "python3",
   "display_name": "Python 3.9.5 64-bit"
  },
  "interpreter": {
   "hash": "916dbcbb3f70747c44a77c7bcd40155683ae19c65e1c03b4aa3499c5328201f1"
  }
 },
 "nbformat": 4,
 "nbformat_minor": 2
}