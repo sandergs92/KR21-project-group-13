{
 "cells": [
  {
   "cell_type": "markdown",
   "source": [
    "**Task 2 experiment**:"
   ],
   "metadata": {}
  },
  {
   "cell_type": "code",
   "execution_count": 1,
   "source": [
    "from BayesNet import BayesNet\n",
    "from BNReasoner import BNReasoner\n",
    "import networkx as nx\n",
    "from time import perf_counter\n",
    "import random\n",
    "from itertools import product\n",
    "import csv\n",
    "from csv import writer\n",
    "\n",
    "graph_sizes = [5, 10, 20, 25]\n",
    "heuristics = [1,2,3]\n",
    "\n",
    "with open('results_mpe.csv', 'w') as csv_file:\n",
    "    csv_writer = writer(csv_file)\n",
    "    headers = ['Graph_size', 'Heuristic', 'Computation time']\n",
    "    csv_writer.writerow(headers)\n",
    "    for graph_size, heuristic in product(graph_sizes, heuristics):\n",
    "        print(graph_size, heuristic)\n",
    "        # Initialize\n",
    "        random_bn = BayesNet()\n",
    "        reasoner = BNReasoner(random_bn)\n",
    "        # Create randomly generated graph\n",
    "        randomly_generated_graph = reasoner.gnp_random_connected_graph(graph_size)\n",
    "        randomly_generated_cpts = reasoner.set_cpts(randomly_generated_graph)\n",
    "        random_bn.create_bn(randomly_generated_graph.nodes(), randomly_generated_graph.edges(), randomly_generated_cpts)\n",
    "        reasoner = BNReasoner(random_bn)\n",
    "        # Assign two different nodes for random query/evidence\n",
    "        random.seed(10)\n",
    "        random_node_1 = random.choice(list(random_bn.structure.nodes()))\n",
    "\n",
    "        random_seed = 1\n",
    "        random.seed(random_seed)\n",
    "        random_node_2 = random.choice(list(random_bn.structure.nodes()))\n",
    "\n",
    "        while random_node_1 == random_node_2:\n",
    "            random_seed += 1\n",
    "            random_node_2 = random.choice(list(random_bn.structure.nodes()))\n",
    "\n",
    "        # print(random_node_1, random_node_2)\n",
    "\n",
    "        # Start the stopwatch / counter\n",
    "        print('MPE counter starts')\n",
    "        t1_start = perf_counter()\n",
    "\n",
    "        result = reasoner.mpe([(random_node_2 ,bool(random.getrandbits(1)))], elimination_heuristic=heuristic)\n",
    "        print(result)\n",
    "\n",
    "        # Stop the stopwatch / counter\n",
    "        t1_stop = perf_counter()\n",
    "        print(\"Elapsed time:\", t1_stop, t1_start)\n",
    "        computation_time = t1_stop-t1_start\n",
    "        print(\"Elapsed time during the whole program in seconds:\",\n",
    "                                                computation_time)\n",
    "        csv_writer.writerow([graph_size, heuristic, computation_time])"
   ],
   "outputs": [
    {
     "output_type": "stream",
     "name": "stdout",
     "text": [
      "5 1\n",
      "MPE counter starts\n",
      "   node_0 node_1 node_2 node_3 node_4         p\n",
      "29   True   True   True  False   True  0.439759\n",
      "Elapsed time: 29972.072718645 29971.869153219\n",
      "Elapsed time during the whole program in seconds: 0.20356542599984095\n",
      "5 2\n",
      "MPE counter starts\n",
      "   node_0 node_1 node_2 node_3 node_4         p\n",
      "14  False   True   True   True  False  0.180306\n",
      "Elapsed time: 29972.243609828 29972.078386024\n",
      "Elapsed time during the whole program in seconds: 0.16522380400056136\n",
      "5 3\n",
      "MPE counter starts\n",
      "   node_0 node_1 node_2 node_3 node_4         p\n",
      "14  False   True   True   True  False  0.180306\n",
      "Elapsed time: 29972.443545989 29972.251220677\n",
      "Elapsed time during the whole program in seconds: 0.192325312000321\n",
      "10 1\n",
      "MPE counter starts\n",
      "    node_0 node_1 node_2 node_3 node_4 node_5 node_6 node_7 node_8 node_9  \\\n",
      "452  False   True   True   True  False  False  False   True  False  False   \n",
      "\n",
      "            p  \n",
      "452  0.000025  \n",
      "Elapsed time: 30086.253047903 29972.457790699\n",
      "Elapsed time during the whole program in seconds: 113.79525720399761\n",
      "10 2\n",
      "MPE counter starts\n",
      "    node_0 node_1 node_2 node_3 node_4 node_5 node_6 node_7 node_8 node_9  \\\n",
      "944   True   True   True  False   True   True  False  False  False  False   \n",
      "\n",
      "            p  \n",
      "944  0.000525  \n",
      "Elapsed time: 30195.968845026 30086.264657342\n",
      "Elapsed time during the whole program in seconds: 109.70418768400123\n",
      "10 3\n",
      "MPE counter starts\n",
      "    node_0 node_1 node_2 node_3 node_4 node_5 node_6 node_7 node_8 node_9  \\\n",
      "944   True   True   True  False   True   True  False  False  False  False   \n",
      "\n",
      "            p  \n",
      "944  0.000525  \n",
      "Elapsed time: 30313.970791333 30195.981189363\n",
      "Elapsed time during the whole program in seconds: 117.98960196999906\n",
      "20 1\n",
      "MPE counter starts\n"
     ]
    },
    {
     "output_type": "error",
     "ename": "KeyboardInterrupt",
     "evalue": "",
     "traceback": [
      "\u001b[0;31m---------------------------------------------------------------------------\u001b[0m",
      "\u001b[0;31mKeyboardInterrupt\u001b[0m                         Traceback (most recent call last)",
      "\u001b[0;32m/tmp/ipykernel_74350/320526320.py\u001b[0m in \u001b[0;36m<module>\u001b[0;34m\u001b[0m\n\u001b[1;32m     43\u001b[0m         \u001b[0mt1_start\u001b[0m \u001b[0;34m=\u001b[0m \u001b[0mperf_counter\u001b[0m\u001b[0;34m(\u001b[0m\u001b[0;34m)\u001b[0m\u001b[0;34m\u001b[0m\u001b[0;34m\u001b[0m\u001b[0m\n\u001b[1;32m     44\u001b[0m \u001b[0;34m\u001b[0m\u001b[0m\n\u001b[0;32m---> 45\u001b[0;31m         \u001b[0mresult\u001b[0m \u001b[0;34m=\u001b[0m \u001b[0mreasoner\u001b[0m\u001b[0;34m.\u001b[0m\u001b[0mmpe\u001b[0m\u001b[0;34m(\u001b[0m\u001b[0;34m[\u001b[0m\u001b[0;34m(\u001b[0m\u001b[0mrandom_node_2\u001b[0m \u001b[0;34m,\u001b[0m\u001b[0mbool\u001b[0m\u001b[0;34m(\u001b[0m\u001b[0mrandom\u001b[0m\u001b[0;34m.\u001b[0m\u001b[0mgetrandbits\u001b[0m\u001b[0;34m(\u001b[0m\u001b[0;36m1\u001b[0m\u001b[0;34m)\u001b[0m\u001b[0;34m)\u001b[0m\u001b[0;34m)\u001b[0m\u001b[0;34m]\u001b[0m\u001b[0;34m,\u001b[0m \u001b[0melimination_heuristic\u001b[0m\u001b[0;34m=\u001b[0m\u001b[0mheuristic\u001b[0m\u001b[0;34m)\u001b[0m\u001b[0;34m\u001b[0m\u001b[0;34m\u001b[0m\u001b[0m\n\u001b[0m\u001b[1;32m     46\u001b[0m         \u001b[0mprint\u001b[0m\u001b[0;34m(\u001b[0m\u001b[0mresult\u001b[0m\u001b[0;34m)\u001b[0m\u001b[0;34m\u001b[0m\u001b[0;34m\u001b[0m\u001b[0m\n\u001b[1;32m     47\u001b[0m \u001b[0;34m\u001b[0m\u001b[0m\n",
      "\u001b[0;32m~/Documents/Studieshiz/KR21-project-group-13/BNReasoner.py\u001b[0m in \u001b[0;36mmpe\u001b[0;34m(self, evidence, elimination_heuristic)\u001b[0m\n\u001b[1;32m    217\u001b[0m                 \u001b[0mresult_cpt\u001b[0m \u001b[0;34m=\u001b[0m \u001b[0mself\u001b[0m\u001b[0;34m.\u001b[0m\u001b[0mmax_out_vars\u001b[0m\u001b[0;34m(\u001b[0m\u001b[0mresult_cpt\u001b[0m\u001b[0;34m,\u001b[0m \u001b[0;34m[\u001b[0m\u001b[0melim_node\u001b[0m\u001b[0;34m]\u001b[0m\u001b[0;34m)\u001b[0m\u001b[0;34m\u001b[0m\u001b[0;34m\u001b[0m\u001b[0m\n\u001b[1;32m    218\u001b[0m                 \u001b[0mpruned_cpts\u001b[0m\u001b[0;34m[\u001b[0m\u001b[0mnode\u001b[0m\u001b[0;34m]\u001b[0m \u001b[0;34m=\u001b[0m \u001b[0mresult_cpt\u001b[0m\u001b[0;34m\u001b[0m\u001b[0;34m\u001b[0m\u001b[0m\n\u001b[0;32m--> 219\u001b[0;31m         \u001b[0mmpe_cpt\u001b[0m \u001b[0;34m=\u001b[0m \u001b[0mself\u001b[0m\u001b[0;34m.\u001b[0m\u001b[0mmultiply_factors\u001b[0m\u001b[0;34m(\u001b[0m\u001b[0mlist\u001b[0m\u001b[0;34m(\u001b[0m\u001b[0mpruned_cpts\u001b[0m\u001b[0;34m.\u001b[0m\u001b[0mvalues\u001b[0m\u001b[0;34m(\u001b[0m\u001b[0;34m)\u001b[0m\u001b[0;34m)\u001b[0m\u001b[0;34m)\u001b[0m\u001b[0;34m\u001b[0m\u001b[0;34m\u001b[0m\u001b[0m\n\u001b[0m\u001b[1;32m    220\u001b[0m         \u001b[0;32mif\u001b[0m \u001b[0mevidence\u001b[0m\u001b[0;34m:\u001b[0m\u001b[0;34m\u001b[0m\u001b[0;34m\u001b[0m\u001b[0m\n\u001b[1;32m    221\u001b[0m             \u001b[0mquery\u001b[0m \u001b[0;34m=\u001b[0m \u001b[0;34m''\u001b[0m\u001b[0;34m\u001b[0m\u001b[0;34m\u001b[0m\u001b[0m\n",
      "\u001b[0;32m~/Documents/Studieshiz/KR21-project-group-13/BNReasoner.py\u001b[0m in \u001b[0;36mmultiply_factors\u001b[0;34m(self, cpts)\u001b[0m\n\u001b[1;32m    135\u001b[0m             \u001b[0;32mif\u001b[0m \u001b[0;32mnot\u001b[0m \u001b[0misinstance\u001b[0m\u001b[0;34m(\u001b[0m\u001b[0mfinal_cpt\u001b[0m\u001b[0;34m,\u001b[0m \u001b[0mpd\u001b[0m\u001b[0;34m.\u001b[0m\u001b[0mDataFrame\u001b[0m\u001b[0;34m)\u001b[0m\u001b[0;34m:\u001b[0m\u001b[0;34m\u001b[0m\u001b[0;34m\u001b[0m\u001b[0m\n\u001b[1;32m    136\u001b[0m                 \u001b[0mfinal_cpt\u001b[0m \u001b[0;34m=\u001b[0m \u001b[0mprevious\u001b[0m\u001b[0;34m\u001b[0m\u001b[0;34m\u001b[0m\u001b[0m\n\u001b[0;32m--> 137\u001b[0;31m             \u001b[0mfinal_cpt\u001b[0m \u001b[0;34m=\u001b[0m \u001b[0mself\u001b[0m\u001b[0;34m.\u001b[0m\u001b[0mcpt_product\u001b[0m\u001b[0;34m(\u001b[0m\u001b[0mcurrent\u001b[0m\u001b[0;34m,\u001b[0m \u001b[0mfinal_cpt\u001b[0m\u001b[0;34m)\u001b[0m\u001b[0;34m\u001b[0m\u001b[0;34m\u001b[0m\u001b[0m\n\u001b[0m\u001b[1;32m    138\u001b[0m         \u001b[0;32mreturn\u001b[0m \u001b[0mfinal_cpt\u001b[0m\u001b[0;34m\u001b[0m\u001b[0;34m\u001b[0m\u001b[0m\n\u001b[1;32m    139\u001b[0m \u001b[0;34m\u001b[0m\u001b[0m\n",
      "\u001b[0;32m~/Documents/Studieshiz/KR21-project-group-13/BNReasoner.py\u001b[0m in \u001b[0;36mcpt_product\u001b[0;34m(self, cpt_1, cpt_2)\u001b[0m\n\u001b[1;32m    147\u001b[0m         \u001b[0miters\u001b[0m \u001b[0;34m=\u001b[0m \u001b[0;34m[\u001b[0m\u001b[0mcpt_1\u001b[0m\u001b[0;34m.\u001b[0m\u001b[0miterrows\u001b[0m\u001b[0;34m(\u001b[0m\u001b[0;34m)\u001b[0m\u001b[0;34m,\u001b[0m \u001b[0mcpt_2\u001b[0m\u001b[0;34m.\u001b[0m\u001b[0miterrows\u001b[0m\u001b[0;34m(\u001b[0m\u001b[0;34m)\u001b[0m\u001b[0;34m,\u001b[0m \u001b[0mcpt_product\u001b[0m\u001b[0;34m.\u001b[0m\u001b[0miterrows\u001b[0m\u001b[0;34m(\u001b[0m\u001b[0;34m)\u001b[0m\u001b[0;34m]\u001b[0m\u001b[0;34m\u001b[0m\u001b[0;34m\u001b[0m\u001b[0m\n\u001b[1;32m    148\u001b[0m         \u001b[0;32mfor\u001b[0m \u001b[0mrow_cpt1\u001b[0m\u001b[0;34m,\u001b[0m \u001b[0mrow_cpt2\u001b[0m\u001b[0;34m,\u001b[0m \u001b[0mrow_new_cpt\u001b[0m \u001b[0;32min\u001b[0m \u001b[0mproduct\u001b[0m\u001b[0;34m(\u001b[0m\u001b[0;34m*\u001b[0m\u001b[0miters\u001b[0m\u001b[0;34m)\u001b[0m\u001b[0;34m:\u001b[0m\u001b[0;34m\u001b[0m\u001b[0;34m\u001b[0m\u001b[0m\n\u001b[0;32m--> 149\u001b[0;31m             \u001b[0;32mif\u001b[0m \u001b[0mrow_cpt1\u001b[0m\u001b[0;34m[\u001b[0m\u001b[0;36m1\u001b[0m\u001b[0;34m]\u001b[0m\u001b[0;34m[\u001b[0m\u001b[0;34m:\u001b[0m\u001b[0;34m-\u001b[0m\u001b[0;36m1\u001b[0m\u001b[0;34m]\u001b[0m\u001b[0;34m.\u001b[0m\u001b[0mto_dict\u001b[0m\u001b[0;34m(\u001b[0m\u001b[0;34m)\u001b[0m\u001b[0;34m.\u001b[0m\u001b[0mitems\u001b[0m\u001b[0;34m(\u001b[0m\u001b[0;34m)\u001b[0m \u001b[0;34m<=\u001b[0m \u001b[0mrow_new_cpt\u001b[0m\u001b[0;34m[\u001b[0m\u001b[0;36m1\u001b[0m\u001b[0;34m]\u001b[0m\u001b[0;34m[\u001b[0m\u001b[0;34m:\u001b[0m\u001b[0;34m-\u001b[0m\u001b[0;36m1\u001b[0m\u001b[0;34m]\u001b[0m\u001b[0;34m.\u001b[0m\u001b[0mto_dict\u001b[0m\u001b[0;34m(\u001b[0m\u001b[0;34m)\u001b[0m\u001b[0;34m.\u001b[0m\u001b[0mitems\u001b[0m\u001b[0;34m(\u001b[0m\u001b[0;34m)\u001b[0m \u001b[0;32mand\u001b[0m \u001b[0mrow_cpt2\u001b[0m\u001b[0;34m[\u001b[0m\u001b[0;36m1\u001b[0m\u001b[0;34m]\u001b[0m\u001b[0;34m[\u001b[0m\u001b[0;34m:\u001b[0m\u001b[0;34m-\u001b[0m\u001b[0;36m1\u001b[0m\u001b[0;34m]\u001b[0m\u001b[0;34m.\u001b[0m\u001b[0mto_dict\u001b[0m\u001b[0;34m(\u001b[0m\u001b[0;34m)\u001b[0m\u001b[0;34m.\u001b[0m\u001b[0mitems\u001b[0m\u001b[0;34m(\u001b[0m\u001b[0;34m)\u001b[0m \u001b[0;34m<=\u001b[0m \u001b[0mrow_new_cpt\u001b[0m\u001b[0;34m[\u001b[0m\u001b[0;36m1\u001b[0m\u001b[0;34m]\u001b[0m\u001b[0;34m[\u001b[0m\u001b[0;34m:\u001b[0m\u001b[0;34m-\u001b[0m\u001b[0;36m1\u001b[0m\u001b[0;34m]\u001b[0m\u001b[0;34m.\u001b[0m\u001b[0mto_dict\u001b[0m\u001b[0;34m(\u001b[0m\u001b[0;34m)\u001b[0m\u001b[0;34m.\u001b[0m\u001b[0mitems\u001b[0m\u001b[0;34m(\u001b[0m\u001b[0;34m)\u001b[0m\u001b[0;34m:\u001b[0m\u001b[0;34m\u001b[0m\u001b[0;34m\u001b[0m\u001b[0m\n\u001b[0m\u001b[1;32m    150\u001b[0m                 \u001b[0;32mif\u001b[0m \u001b[0mmath\u001b[0m\u001b[0;34m.\u001b[0m\u001b[0misnan\u001b[0m\u001b[0;34m(\u001b[0m\u001b[0mcpt_product\u001b[0m\u001b[0;34m.\u001b[0m\u001b[0miloc\u001b[0m\u001b[0;34m[\u001b[0m\u001b[0;34m[\u001b[0m\u001b[0mrow_new_cpt\u001b[0m\u001b[0;34m[\u001b[0m\u001b[0;36m0\u001b[0m\u001b[0;34m]\u001b[0m\u001b[0;34m]\u001b[0m\u001b[0;34m]\u001b[0m\u001b[0;34m[\u001b[0m\u001b[0;34m'p'\u001b[0m\u001b[0;34m]\u001b[0m\u001b[0;34m)\u001b[0m\u001b[0;34m:\u001b[0m\u001b[0;34m\u001b[0m\u001b[0;34m\u001b[0m\u001b[0m\n\u001b[1;32m    151\u001b[0m                     \u001b[0mresult\u001b[0m \u001b[0;34m=\u001b[0m \u001b[0mrow_cpt1\u001b[0m\u001b[0;34m[\u001b[0m\u001b[0;36m1\u001b[0m\u001b[0;34m]\u001b[0m\u001b[0;34m[\u001b[0m\u001b[0;34m'p'\u001b[0m\u001b[0;34m]\u001b[0m \u001b[0;34m*\u001b[0m \u001b[0mrow_cpt2\u001b[0m\u001b[0;34m[\u001b[0m\u001b[0;36m1\u001b[0m\u001b[0;34m]\u001b[0m\u001b[0;34m[\u001b[0m\u001b[0;34m'p'\u001b[0m\u001b[0;34m]\u001b[0m\u001b[0;34m\u001b[0m\u001b[0;34m\u001b[0m\u001b[0m\n",
      "\u001b[0;31mKeyboardInterrupt\u001b[0m: "
     ]
    }
   ],
   "metadata": {}
  }
 ],
 "metadata": {
  "orig_nbformat": 4,
  "language_info": {
   "name": "python",
   "version": "3.9.5",
   "mimetype": "text/x-python",
   "codemirror_mode": {
    "name": "ipython",
    "version": 3
   },
   "pygments_lexer": "ipython3",
   "nbconvert_exporter": "python",
   "file_extension": ".py"
  },
  "kernelspec": {
   "name": "python3",
   "display_name": "Python 3.9.5 64-bit"
  },
  "interpreter": {
   "hash": "916dbcbb3f70747c44a77c7bcd40155683ae19c65e1c03b4aa3499c5328201f1"
  }
 },
 "nbformat": 4,
 "nbformat_minor": 2
}